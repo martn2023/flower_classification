{
 "cells": [
  {
   "cell_type": "markdown",
   "id": "a50d5f92-7484-46d5-b3f8-8c1fdb221cc8",
   "metadata": {},
   "source": [
    "# I. Transition from Chapter 4 to Chapter 6\n",
    "First 4 notebooks explained different models and then used SGD to classify flowers.\n",
    "\n",
    "This time, we will use *decision tree*.\n",
    "\n",
    "#### A) Reviewing What a Decision Tree Is\n",
    "- A flow chart that asks structured questions to make a determination or recommendation, which may have loops\n",
    "- But the chart \"acyclic\" is doesn't have cycles i.e. you can't loop backwards in some infinite loop/you always end up with a firm recommendation\n",
    "\n",
    "\n",
    "#### B) Use Cases\n",
    "- Classifying flower species based on petal measurements\n",
    "- Before COVID testing became widespread, guessing if a medical patient has COVID\n",
    "- Looking at breast lumps' measurements to guess benign vs malignant.\n",
    "  \n"
   ]
  }
 ],
 "metadata": {
  "kernelspec": {
   "display_name": "Python 3 (ipykernel)",
   "language": "python",
   "name": "python3"
  },
  "language_info": {
   "codemirror_mode": {
    "name": "ipython",
    "version": 3
   },
   "file_extension": ".py",
   "mimetype": "text/x-python",
   "name": "python",
   "nbconvert_exporter": "python",
   "pygments_lexer": "ipython3",
   "version": "3.11.4"
  }
 },
 "nbformat": 4,
 "nbformat_minor": 5
}
