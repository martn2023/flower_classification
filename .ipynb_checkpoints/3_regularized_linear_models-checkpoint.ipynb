{
 "cells": [
  {
   "cell_type": "markdown",
   "id": "9a4a1a15-0979-458d-9cba-e364ce1d225a",
   "metadata": {},
   "source": [
    "# I. Regularized Linear Models\n",
    "We've discussed over-fitting concerns. One way to mitigate overfitting (a.k.a. regularize a model) is to trim down the number of involved inputs.\n",
    "\n",
    "\n",
    "### 1. Ridge Regression"
   ]
  },
  {
   "cell_type": "markdown",
   "id": "b494fb3b-9436-48de-8d9d-62a95a64bd60",
   "metadata": {},
   "source": [
    "### 2. Ridge Regression"
   ]
  },
  {
   "cell_type": "markdown",
   "id": "ee651791-c9e6-4207-a980-736d41e94814",
   "metadata": {},
   "source": [
    "### 3. Ridge Regression"
   ]
  },
  {
   "cell_type": "code",
   "execution_count": null,
   "id": "f905c36a-e611-44fb-9e82-1c0ef08aa1be",
   "metadata": {},
   "outputs": [],
   "source": []
  },
  {
   "cell_type": "code",
   "execution_count": null,
   "id": "23c0f92f-feea-4ae4-9739-5a867956cc6d",
   "metadata": {},
   "outputs": [],
   "source": []
  },
  {
   "cell_type": "code",
   "execution_count": null,
   "id": "01461c5e-bfcc-44b6-a461-69c9ce579540",
   "metadata": {},
   "outputs": [],
   "source": []
  },
  {
   "cell_type": "code",
   "execution_count": null,
   "id": "fab77dd3-83fb-4220-b9ed-25f3a55779b8",
   "metadata": {},
   "outputs": [],
   "source": []
  }
 ],
 "metadata": {
  "kernelspec": {
   "display_name": "Python 3 (ipykernel)",
   "language": "python",
   "name": "python3"
  },
  "language_info": {
   "codemirror_mode": {
    "name": "ipython",
    "version": 3
   },
   "file_extension": ".py",
   "mimetype": "text/x-python",
   "name": "python",
   "nbconvert_exporter": "python",
   "pygments_lexer": "ipython3",
   "version": "3.10.11"
  }
 },
 "nbformat": 4,
 "nbformat_minor": 5
}
