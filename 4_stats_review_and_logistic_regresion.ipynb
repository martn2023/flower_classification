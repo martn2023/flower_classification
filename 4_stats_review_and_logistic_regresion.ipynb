{
 "cells": [
  {
   "cell_type": "markdown",
   "id": "87936398-c88d-49a0-a992-48b555bd003f",
   "metadata": {},
   "source": [
    "# I. Statistics Review\n",
    "It's been a while since my Stats 101 and CFA L1 days here.\n",
    "\n",
    "#### A) Correlation\n",
    "- Represented as *\"R\"*\n",
    "- Shows the strength of relationship, not causality, between 2 linear trends\n",
    "\n",
    "#### B) Variance\n",
    "- Represented as *\"Sigma-squared\"*\n",
    "- Quantifies the the model's error, the disparity between predictions and actuals.\n",
    "- I'm guessing this is similar to \"cost function\".\n",
    "\n",
    "#### C) Coefficient of Determination\n",
    "- Represented as *\"R-squared\"*\n",
    "- At first glance, this seems pointless because you'd think it ties directly to (A) Correlation.\n",
    "- This shows how much of (B) Variance is dictated by an input variable, which is relevant in a more complex, non-linear model with multiple variables.\n",
    "- It's possible for an input variable to be strongly correlated (high R), but still play a minor role (low R-Squared) in predicting outputs. Clean and understandable relationships can be overshadowed by stronger factors or confounding variables. For example:\n",
    "  - __PREDICTING HOW ATTRACTIVE A GUY IS TO GIRLS__\n",
    "    - In a vacuum, women generally find a guy less attractive the more video games he plays.\n",
    "    - However, a girl's repulsion often immediately goes out the window if the guy:\n",
    "      - is tall\n",
    "      - has a good income\n",
    "      - is a colorful storyteller\n",
    "    - Therefore, (lack of) video game activity is an example of something with <u>strong correlation</u>, but <u>low __coefficient of determination__</u> in predicting how attractive a guy is to girls\n",
    "\n",
    "#### D) Covariance\n",
    "- Represented as *\"Cov(X,Y)\"* when discussing the relationship between X and Y\n",
    "- Shows directionality:\n",
    "  - a positive covariance means factors increase together (housing prices grow with square footage)\n",
    "  - a negative covariance means 1 factor shrinks while the other grows (a guy's level of attractiveness shrinks as his video game consumption goes up)"
   ]
  },
  {
   "cell_type": "markdown",
   "id": "b5c07fdd-bbad-497b-9336-80ac90530c04",
   "metadata": {},
   "source": [
    "# I. Statistics Review\n",
    "asdf"
   ]
  },
  {
   "cell_type": "markdown",
   "id": "8db2e166-5f53-4b96-a5f0-c8a9f1d7849e",
   "metadata": {},
   "source": [
    "# I. Statistics Review\n",
    "asdf"
   ]
  },
  {
   "cell_type": "markdown",
   "id": "4672b01b-4da4-465f-9ec1-0ad7a9885a32",
   "metadata": {},
   "source": [
    "# I. Statistics Review\n",
    "asdf"
   ]
  },
  {
   "cell_type": "markdown",
   "id": "b298165a-19be-40b0-b904-51b70f18eb38",
   "metadata": {},
   "source": [
    "# I. Statistics Review\n",
    "asdf"
   ]
  }
 ],
 "metadata": {
  "kernelspec": {
   "display_name": "Python 3 (ipykernel)",
   "language": "python",
   "name": "python3"
  },
  "language_info": {
   "codemirror_mode": {
    "name": "ipython",
    "version": 3
   },
   "file_extension": ".py",
   "mimetype": "text/x-python",
   "name": "python",
   "nbconvert_exporter": "python",
   "pygments_lexer": "ipython3",
   "version": "3.10.11"
  }
 },
 "nbformat": 4,
 "nbformat_minor": 5
}
