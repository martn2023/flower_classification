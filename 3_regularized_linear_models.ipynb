{
 "cells": [
  {
   "cell_type": "markdown",
   "id": "9a4a1a15-0979-458d-9cba-e364ce1d225a",
   "metadata": {},
   "source": [
    "# I. Regularized Linear Models\n",
    "We've discussed over-fitting concerns. One way to mitigate overfitting (a.k.a. regularize a model) is to trim down the number of involved inputs. At a high level, \"regularizing models\" means making predictive models more accurate through simplification i.e. __reducing error on training data by dropping redundant inputs__. These are the 3 models, but we'll save the math examples for later:\n",
    "\n",
    "##### Ridge\n",
    "Lowering the weights (coefficients) of the lowest impact variables\n",
    "\n",
    "##### Lasso\n",
    "Completely eliminating low-impact variables.\n",
    "\n",
    "##### Elastic Net\n",
    "See this as a combination of the  Ridge and Lasso"
   ]
  },
  {
   "cell_type": "markdown",
   "id": "92f6c0c7-f81b-4c0c-8e3c-99db75972995",
   "metadata": {},
   "source": [
    "# II. Complex vs. Simple Models\n",
    "\n",
    "### Complex models\n",
    "- More inputs\n",
    "- Low \"bias\"\n",
    "- Overfitting\n",
    "- Low error on training data, but higher error on testing data\n",
    "- In other words, __has trouble__ creating overarching themes that you can apply to unseen data\n",
    "\n",
    "### Simple models\n",
    "- Less inputs\n",
    "- High \"bias\"\n",
    "- More error on training data, but more accurate on testing data\n",
    "- In other words, __better__ at creating overarching themes that you can apply to unseen data"
   ]
  },
  {
   "cell_type": "markdown",
   "id": "cac94d08-d96f-4751-bcc0-5ceab38de89a",
   "metadata": {},
   "source": [
    "# III. Illustrative Example\n",
    "### Scenario\n",
    "asd\n"
   ]
  },
  {
   "cell_type": "markdown",
   "id": "4cf39506-3a62-456c-8ec1-7f2ab8156bdf",
   "metadata": {},
   "source": [
    "### 1. Ridge Regression"
   ]
  },
  {
   "cell_type": "markdown",
   "id": "b494fb3b-9436-48de-8d9d-62a95a64bd60",
   "metadata": {},
   "source": [
    "### 2. Ridge Regression"
   ]
  },
  {
   "cell_type": "markdown",
   "id": "ee651791-c9e6-4207-a980-736d41e94814",
   "metadata": {},
   "source": [
    "### 3. Ridge Regression"
   ]
  },
  {
   "cell_type": "markdown",
   "id": "af4d91a8-a820-425d-95c8-2836c34173b7",
   "metadata": {},
   "source": [
    "# II. Early Stoppage\n",
    "\n",
    "### What is it?\n",
    "This is not a predictive model. Rather, this is a method to use the aforementioned predictive models better. We talked about Gradient Descent as an iterative way to find a minimum error (or maximum value).\n",
    "\n",
    "Early Stoppage means we basically stop iterating when we've reached a point of diminishing returns:\n",
    "- the model is not getting more accurate with each subsquent calculation OR\n",
    "- even worse, the model is starting to get worse\n",
    "\n",
    "### Why is it important?\n",
    "The core benefit is one of accuracy - quitting while you're ahead\n",
    "\n",
    "However, a secondary benefit is reduced computational load on your device's processing power and memory.\n"
   ]
  },
  {
   "cell_type": "code",
   "execution_count": null,
   "id": "f905c36a-e611-44fb-9e82-1c0ef08aa1be",
   "metadata": {},
   "outputs": [],
   "source": []
  },
  {
   "cell_type": "code",
   "execution_count": null,
   "id": "23c0f92f-feea-4ae4-9739-5a867956cc6d",
   "metadata": {},
   "outputs": [],
   "source": []
  },
  {
   "cell_type": "code",
   "execution_count": null,
   "id": "01461c5e-bfcc-44b6-a461-69c9ce579540",
   "metadata": {},
   "outputs": [],
   "source": []
  },
  {
   "cell_type": "code",
   "execution_count": null,
   "id": "fab77dd3-83fb-4220-b9ed-25f3a55779b8",
   "metadata": {},
   "outputs": [],
   "source": []
  }
 ],
 "metadata": {
  "kernelspec": {
   "display_name": "Python 3 (ipykernel)",
   "language": "python",
   "name": "python3"
  },
  "language_info": {
   "codemirror_mode": {
    "name": "ipython",
    "version": 3
   },
   "file_extension": ".py",
   "mimetype": "text/x-python",
   "name": "python",
   "nbconvert_exporter": "python",
   "pygments_lexer": "ipython3",
   "version": "3.10.11"
  }
 },
 "nbformat": 4,
 "nbformat_minor": 5
}
