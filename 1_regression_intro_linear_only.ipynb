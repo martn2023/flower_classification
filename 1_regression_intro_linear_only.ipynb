{
 "cells": [
  {
   "cell_type": "markdown",
   "id": "19c9b277-a2f0-4225-a6ab-b5cbb0fdc10f",
   "metadata": {},
   "source": [
    "# I. Linear Regression\n",
    "Forming a __y = mx + b__ best fit line\n",
    "\n",
    "#### Making a sample scatter plot"
   ]
  },
  {
   "cell_type": "code",
   "execution_count": 3,
   "id": "1a0c43b1-ced3-4f6b-bd8b-adf81beb9005",
   "metadata": {},
   "outputs": [],
   "source": [
    " import numpy as np\n",
    " X = 2 * np.random.rand(100, 1)\n",
    " y = 4 + 3 * X + np.random.randn(100, 1)"
   ]
  },
  {
   "cell_type": "code",
   "execution_count": null,
   "id": "11d82920-0743-42c2-a74a-ef68a6a58f31",
   "metadata": {},
   "outputs": [],
   "source": []
  }
 ],
 "metadata": {
  "kernelspec": {
   "display_name": "Python 3 (ipykernel)",
   "language": "python",
   "name": "python3"
  },
  "language_info": {
   "codemirror_mode": {
    "name": "ipython",
    "version": 3
   },
   "file_extension": ".py",
   "mimetype": "text/x-python",
   "name": "python",
   "nbconvert_exporter": "python",
   "pygments_lexer": "ipython3",
   "version": "3.10.11"
  }
 },
 "nbformat": 4,
 "nbformat_minor": 5
}
